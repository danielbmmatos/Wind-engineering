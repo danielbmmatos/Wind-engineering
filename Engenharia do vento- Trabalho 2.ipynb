{
 "cells": [
  {
   "cell_type": "code",
   "execution_count": 1,
   "metadata": {},
   "outputs": [],
   "source": [
    "import numpy as np\n",
    "import pandas as pd\n"
   ]
  },
  {
   "attachments": {
    "dados.PNG": {
     "image/png": "[encoded data removed]"
    }
   },
   "cell_type": "markdown",
   "metadata": {},
   "source": [
    "## 1. Cálculo pelo processo convencional\n",
    "\n",
    "Os dados da torre fornecidos para o problema são:\n",
    "\\begin{align}\n",
    "\\gamma_{concreto} &= 2500 kg/m^3\\\\\n",
    "F_{ck} &= 30MPa\n",
    "\\end{align}\n",
    "![dados.PNG](attachment:dados.PNG)\n"
   ]
  },
  {
   "cell_type": "code",
   "execution_count": 2,
   "metadata": {},
   "outputs": [
    {
     "name": "stdout",
     "output_type": "stream",
     "text": [
      " Massa por comprimento do fuste:7539.822kg/m.\n",
      " Massa das 5 lajes :196349.541kg.\n"
     ]
    }
   ],
   "source": [
    "A_F = np.pi*(5**2 - 4.6**2)/4\n",
    "A_L = np.pi*(10**2)/4\n",
    "\n",
    "mi_F = A_F * 2500\n",
    "\n",
    "m_L = 5* A_L *0.2*2500\n",
    "\n",
    "print(\" Massa por comprimento do fuste:{0:5.3f}kg/m.\".format(mi_F))\n",
    "print(\" Massa das 5 lajes :{0:5.3f}kg.\".format(m_L))\n"
   ]
  },
  {
   "cell_type": "markdown",
   "metadata": {},
   "source": [
    "As características do vento estão expostas abaixo:\n"
   ]
  },
  {
   "cell_type": "code",
   "execution_count": 3,
   "metadata": {},
   "outputs": [],
   "source": [
    "Vo = 46    ## Velocidade básica do vento\n",
    "S1 = 1.0   ## Fator topográfico\n",
    "S3 = 1.0   ## Fator estatístico\n",
    "\n",
    "## Para categoria III e classe C.\n",
    "b = 0.93\n",
    "p = 0.115\n",
    "################################\n",
    "\n",
    "z = [4,12.5,21.5,30.5,39.5,46,50,54,58] ## discretização da altura da torre\n",
    "S2 = np.zeros(len(z))\n",
    "for i in range (len(z)):\n",
    "    S2[i] = b*0.95*(z[i]/10)**p\n",
    "    \n",
    "Vk = S1*S2*S3*Vo ## Velocidade característica em cada altura\n",
    "\n"
   ]
  },
  {
   "cell_type": "markdown",
   "metadata": {},
   "source": [
    "Para o cálculo dos esforços que atuarão na torre, é necessário a definição dos coeficientes de arrasto $C_a$( Tabela 10 da NBR 6123/88):"
   ]
  },
  {
   "cell_type": "code",
   "execution_count": 4,
   "metadata": {},
   "outputs": [],
   "source": [
    "C_F = 0.5 ## Coeficiente de arrasto do fuste\n",
    "C_K = 0.5 ## Coeficiente de arrasto do Kevlar\n",
    "Ca = np.ones(9)* C_F"
   ]
  },
  {
   "cell_type": "markdown",
   "metadata": {},
   "source": [
    "O cálculo da pressão dinâmica e da força de arrasto serão calculados, respectivamente, pelas seguintes equações:\n",
    "\n",
    "\n",
    "$${q} = 0.613 * V_k^2 \\\\$$\n",
    "$$ F_a = C_a * q * A $$\n",
    "\n"
   ]
  },
  {
   "cell_type": "code",
   "execution_count": 5,
   "metadata": {},
   "outputs": [
    {
     "name": "stdout",
     "output_type": "stream",
     "text": [
      "       Vk (m/s)        S2  A (m^2)   q (kPa)   Ca     F (kN)     M (kN.m)\n",
      "58.0  49.746050  1.081436    40.00  1.516972  0.5  30.339448  1759.688004\n",
      "54.0  49.338923  1.072585    40.00  1.492244  0.5  29.844878  1611.623405\n",
      "50.0  48.904175  1.063134    40.00  1.466062  0.5  29.321241  1466.062032\n",
      "46.0  48.437480  1.052989    40.00  1.438214  0.5  28.764282  1323.156986\n",
      "39.5  47.596284  1.034702    45.00  1.388694  0.5  31.245616  1234.201845\n",
      "30.5  46.201797  1.004387    45.00  1.308514  0.5  29.441554   897.967391\n",
      "21.5  44.380767  0.964799    45.00  1.207397  0.5  27.166432   584.078297\n",
      "12.5  41.697406  0.906465    45.00  1.065807  0.5  23.980656   299.758205\n",
      "4.0   36.576427  0.795140    41.25  0.820093  0.5  16.914416    67.657663\n"
     ]
    }
   ],
   "source": [
    "q = 0.613*Vk**2\n",
    "A = [41.25,45,45,45,45,40,40,40,40]\n",
    "F1 = Ca*q*A\n",
    "M1 = F1*z\n",
    "data = {'Vk (m/s)':Vk[::-1],'S2': S2[::-1],'A (m^2)':A[::-1],\n",
    "        'q (kPa)':q[::-1]/1000,'Ca':Ca[::-1],'F (kN)':F1[::-1]/1000,'M (kN.m)':M1[::-1]/1000}\n",
    "\n",
    "Plan = pd.DataFrame( data = data,\n",
    "                   index = z[::-1])\n",
    "print(Plan)\n",
    "   "
   ]
  },
  {
   "cell_type": "markdown",
   "metadata": {},
   "source": [
    "O somatório dos esforços são:\n"
   ]
  },
  {
   "cell_type": "code",
   "execution_count": 6,
   "metadata": {},
   "outputs": [
    {
     "name": "stdout",
     "output_type": "stream",
     "text": [
      "Esforço cortante =247018.524N\n",
      "Mommento fletor =9244193.828N.m\n"
     ]
    }
   ],
   "source": [
    "print('Esforço cortante ={0:5.3f}N'.format(np.sum(F1)))\n",
    "print('Mommento fletor ={0:5.3f}N.m'.format(np.sum(M1)))"
   ]
  },
  {
   "cell_type": "markdown",
   "metadata": {},
   "source": [
    "## 2. Solução pelo capítulo 9 da NBR6123/88\n",
    "\n",
    "### 1. Método simplificado\n",
    "Para a velocidade média do vento, utiliza-se a seguinte expressão:\n",
    "$$ V_k = 0.69*V_o*S1*S2 $$\n",
    "Para uma chaminé de concreto com razão uniforme (Tabela 19), tem-se:\n",
    "$$ \\\\ expoente\\,da\\,Forma \\,modal = 1.7\\\\ $$\n",
    "$$Razão\\, de \\,amortecimento = 0.010 \\\\$$\n",
    "$$Frequência\\, fundamental= 1.11 Hz$$\n",
    "Já a pressão dinâmica pode ser expressa por:\n",
    "\n",
    "$$ q = \\overline{q_o}*b^2 \\left[ \\left( \\frac{z}{z_r} \\right) ^{2p}+\\left(\\frac{h}{z_r} \\right) ^{p}*\\left(\n",
    "\\frac{z}{h} \\right) ^{\\gamma} *\\frac{1+2*\\gamma}{1+\\gamma+p}*\\xi\\right]$$\n",
    "\n",
    "$$ \\overline{q_o} =  0.613 * V_k^2 $$\n",
    "\n",
    "Pela interpolação linear da Figura 16, $ \\xi = 1.50$ e pela tabela 20, tem-se que $ b = 0.86$ e  $p = 0.185$\n"
   ]
  },
  {
   "cell_type": "code",
   "execution_count": 7,
   "metadata": {},
   "outputs": [],
   "source": [
    "Vk = S1*0.69*S3*Vo\n",
    "q = 0.613*Vk**2\n",
    "q_d = np.zeros(9)\n",
    "for n in range (9):\n",
    "    \n",
    "    q_d[n] = q *0.86**2 *((z[n]/10)**(2*0.185) + (60/10)**0.185 *(z[n]/60)**1.7 * (1+2*1.7)*1.5/(1+1.7+0.185))\n",
    "    \n",
    "F2 = Ca*q_d*A\n",
    "M2 = F2*z"
   ]
  },
  {
   "cell_type": "markdown",
   "metadata": {},
   "source": [
    "Montando agora a tabela para o cálculo dos esforços:\n"
   ]
  },
  {
   "cell_type": "code",
   "execution_count": 8,
   "metadata": {},
   "outputs": [
    {
     "name": "stdout",
     "output_type": "stream",
     "text": [
      "      Vk (m/s)  A (m^2)   q (kPa)   Ca     F (kN)     M (kN.m)\n",
      "58.0     31.74    40.00  2.249300  0.5  44.986000  2609.188001\n",
      "54.0     31.74    40.00  2.069284  0.5  41.385671  2234.826246\n",
      "50.0     31.74    40.00  1.896122  0.5  37.922432  1896.121593\n",
      "46.0     31.74    40.00  1.729854  0.5  34.597071  1591.465257\n",
      "39.5     31.74    45.00  1.474428  0.5  33.174635  1310.398098\n",
      "30.5     31.74    45.00  1.150786  0.5  25.892690   789.727054\n",
      "21.5     31.74    45.00  0.860562  0.5  19.362651   416.296998\n",
      "12.5     31.74    45.00  0.597191  0.5  13.436809   167.960106\n",
      "4.0      31.74    41.25  0.339989  0.5   7.012274    28.049095\n"
     ]
    }
   ],
   "source": [
    "data = {'Vk (m/s)':Vk,'A (m^2)':A[::-1],\n",
    "        'q (kPa)':q_d[::-1]/1000,'Ca':Ca[::-1],'F (kN)':F2[::-1]/1000,'M (kN.m)':M2[::-1]/1000}\n",
    "\n",
    "Plan = pd.DataFrame( data = data,\n",
    "                   index = z[::-1])\n",
    "print(Plan)"
   ]
  },
  {
   "cell_type": "code",
   "execution_count": 9,
   "metadata": {},
   "outputs": [
    {
     "name": "stdout",
     "output_type": "stream",
     "text": [
      "Esforço cortante =257770.233N\n",
      "Mommento fletor =11044032.447N.m\n"
     ]
    }
   ],
   "source": [
    "print('Esforço cortante ={0:5.3f}N'.format(np.sum(F2)))\n",
    "print('Mommento fletor ={0:5.3f}N.m'.format(np.sum(M2)))"
   ]
  },
  {
   "attachments": {
    "Discreto.PNG": {
     "image/png": "[encoded data removed]"
    }
   },
   "cell_type": "markdown",
   "metadata": {},
   "source": [
    "### 2. Método discreto\n",
    "\n",
    "![Discreto.PNG](attachment:Discreto.PNG)\n",
    "O capítulo 9 da norma estabelece o seguinte roteiro para a análise dinâmica\n",
    "$$ x_i = \\left(\\frac{z_i}{h}\\right)^\\gamma\\\\ $$\n",
    "$$ X_i = \\overline{X_i} + \\hat{X_i}\\\\ $$\n",
    "$$ \\overline{X_i} = \\overline{q_o}*b^2*C_{ai}*A_i*\\left(\\frac{z_i}{z_r}\\right)^{2p}\\\\ $$\n",
    "$$ \\hat{x_i} = FH *\\phi_i* x_i\\\\ $$\n",
    "$$ \\phi_i = \\frac{m_i}{m_o}\\\\ $$\n",
    "$$ FH = \\overline{q_o}*b^2*C_i*A_O* \\frac{\\sum_{n=1}^{n}\\beta_i * x_i}{\\sum_{n=1}^{n}\\phi_i * x_i^2}*\\xi\\\\ $$\n",
    "$$ A_o = \\sum A_i \\\\ $$\n",
    "$$ m_o = \\sum m_i \\\\ $$\n",
    "$$ \\beta_i = C_{ai} * \\frac{A_i}{A_o} \\left( \\frac{z_i}{z_r}\\right)^p $$\n",
    "\n",
    "Onde $x_i$ é a forma modal, $X_i$ é a velocidade instantânea do vento, $\\overline{X_i}$ é a velocidade média e $\\hat{X_i}$ é a velocidade flutuante."
   ]
  },
  {
   "cell_type": "code",
   "execution_count": 10,
   "metadata": {},
   "outputs": [
    {
     "name": "stdout",
     "output_type": "stream",
     "text": [
      "      A (m^2)     m(kg)      beta       phi         x            FH  \\\n",
      "58.0    40.00  75814.95  0.072620  0.173145  0.943997  93106.752898   \n",
      "54.0    40.00  55779.30  0.071666  0.127388  0.836012  93106.752898   \n",
      "50.0    40.00  55779.30  0.070653  0.127388  0.733486  93106.752898   \n",
      "46.0    40.00  89559.50  0.069571  0.204534  0.636548  93106.752898   \n",
      "39.5    45.00  31346.00  0.076093  0.071587  0.491313  93106.752898   \n",
      "30.5    45.00  35343.00  0.072538  0.080716  0.316557  93106.752898   \n",
      "21.5    45.00  35343.00  0.067994  0.080716  0.174698  93106.752898   \n",
      "12.5    45.00  34361.25  0.061504  0.078474  0.069485  93106.752898   \n",
      "4.0     41.25  24543.75  0.045663  0.056053  0.010015  93106.752898   \n",
      "\n",
      "      X médio (kN)   x_f (kN)    Xi (kN)     M (kN.m)  \n",
      "58.0     17.505301  15.218129  32.723430  1897.958912  \n",
      "54.0     17.048529   9.915652  26.964181  1456.065753  \n",
      "50.0     16.569909   8.699632  25.269541  1263.477041  \n",
      "46.0     16.066512  12.122126  28.188638  1296.677363  \n",
      "39.5     17.084201   3.274734  20.358935   804.177915  \n",
      "30.5     15.525467   2.378986  17.904454   546.085836  \n",
      "21.5     13.641307   1.312888  14.954194   321.515179  \n",
      "12.5     11.161189   0.507686  11.668874   145.860926  \n",
      "4.0       6.711620   0.052266   6.763887    27.055546  \n"
     ]
    }
   ],
   "source": [
    "xi = np.zeros(9)\n",
    "Xi_m = np.zeros(9)\n",
    "beta =np.zeros(9)\n",
    "mi = [24543.75, 34361.25, 35343,35343, 31346, 89559.5, 55779.3,55779.3, 75814.95]\n",
    "phi = np.zeros(9)\n",
    "\n",
    "for i in range(9):\n",
    "    \n",
    "    xi[i] = (z[i]/60)**1.7\n",
    "    beta[i] = 0.5* A[i]/sum(A)*(z[i]/10)**0.185\n",
    "    Xi_m[i] = q *0.86**2 * 0.5 * A[i] * (z[i]/10)**(2*0.185)\n",
    "    phi[i] = mi[i]/sum(mi)\n",
    "\n",
    "\n",
    "\n",
    "FH = q * 0.86**2 * 0.5 * np.sum(A)*np.sum(beta*xi)/sum(phi*xi**2) * 1.5\n",
    "\n",
    "xi_f = FH * phi * xi\n",
    "Xi = Xi_m + xi_f\n",
    "M3 = (Xi)*z\n",
    "\n",
    "data = {'A (m^2)':A[::-1],'m(kg)':mi[::-1],'beta':beta[::-1],\n",
    "        'phi':phi[::-1],'x': xi[::-1],'FH':FH,'X médio (kN)':Xi_m[::-1]/1000,\n",
    "        'x_f (kN)':xi_f[::-1]/1000,'Xi (kN)':Xi[::-1]/1000,'M (kN.m)':M3[::-1]/1000}\n",
    "\n",
    "Plan = pd.DataFrame( data = data,\n",
    "                   index = z[::-1])\n",
    "print(Plan)\n",
    "\n"
   ]
  },
  {
   "cell_type": "markdown",
   "metadata": {},
   "source": [
    "Portanto, os esforços na base são:"
   ]
  },
  {
   "cell_type": "code",
   "execution_count": 11,
   "metadata": {},
   "outputs": [
    {
     "name": "stdout",
     "output_type": "stream",
     "text": [
      "Esforço cortante =184796.132N\n",
      "Mommento fletor =7758874.472N.m\n"
     ]
    }
   ],
   "source": [
    "print('Esforço cortante ={0:5.3f}N'.format(np.sum(Xi)))\n",
    "print('Mommento fletor ={0:5.3f}N.m'.format(np.sum(M3)))"
   ]
  },
  {
   "cell_type": "markdown",
   "metadata": {},
   "source": [
    "Comparando os valores obtidos por cada método disponível na NBR 6123\\88, monta-se a seguinte tabela:"
   ]
  },
  {
   "cell_type": "code",
   "execution_count": 12,
   "metadata": {},
   "outputs": [
    {
     "name": "stdout",
     "output_type": "stream",
     "text": [
      "                           Valores\n",
      "Força convencional      247.018524\n",
      "Momento convecional    9244.193828\n",
      "Força simplificada      257.770233\n",
      "Momento simplificado  11044.032447\n",
      "Força discreta          184.796132\n",
      "Momento discreto       7758.874472\n"
     ]
    }
   ],
   "source": [
    "data =[np.sum(F1)/1000,np.sum(M1)/1000,np.sum(F2)/1000,np.sum(M2)/1000,np.sum(Xi)/1000,np.sum(M3)/1000]\n",
    "comp = pd.DataFrame( data = data,\n",
    "                   index = ['Força convencional','Momento convecional','Força simplificada',\n",
    "                            'Momento simplificado',\n",
    "                             'Força discreta','Momento discreto'],\n",
    "                   columns = ['Valores'])\n",
    "print(comp)"
   ]
  },
  {
   "cell_type": "markdown",
   "metadata": {},
   "source": [
    "## 3. Desprendimento de vórtices pela norma canadense\n",
    "A principio, deve-se calcular a velocidade crítica, que consiste na velocidade do vento em que a estrutura entrará em ressonância com as forças transversais.\n",
    "\n",
    "$$ V_{cr} = \\frac{1}{S_t}*f*d $$\n",
    "\n",
    "Onde $S_t$ é o número de Strouhal, que pode apresentar os seguintes valores:\n",
    "\n",
    "$$ S_t = 0.2,\\, 10^3 \\leq R_e \\leq 2 *10^6$$\n",
    "$$ S_t = 0.28,\\, R_e \\geq 2 *10^6$$\n",
    "\n",
    "O cálculo das características da torre, como módulo de elasticidade, momento de inércia e Rigidez estão apresentados abaixo:"
   ]
  },
  {
   "cell_type": "code",
   "execution_count": 13,
   "metadata": {},
   "outputs": [
    {
     "name": "stdout",
     "output_type": "stream",
     "text": [
      " Módulo de elasticidade:     38200.262MPa \n",
      " Momento de inércia:         8.701m^4 \n",
      " Rigidez à flexão:           4616371.656N/m\n"
     ]
    }
   ],
   "source": [
    "E = 6600*(30+3.5)**0.5\n",
    "I = 0.25 * np.pi * (2.5**4 - 2.3**4)\n",
    "K = 3* E*I/(60**3)*10**6\n",
    "print(' Módulo de elasticidade:     {0:5.3f}MPa'.format(E),'\\n',\n",
    "      'Momento de inércia:         {0:5.3f}m^4'.format(I),'\\n',\n",
    "      'Rigidez à flexão:           {0:5.3f}N/m'.format(K))"
   ]
  },
  {
   "attachments": {
    "freq.png": {
     "image/png": "[encoded data removed]"
    }
   },
   "cell_type": "markdown",
   "metadata": {},
   "source": [
    "Calculando, agora, as frequências naturais da torre e da massa concentrada (Lajes) em cima dela, por meio das equações:\n",
    "    ![freq.png](attachment:freq.png)\n",
    "    Para a massa concentrada\n",
    "$$f = \\frac{1}{2\\pi}\\sqrt{\\frac{K}{m}}$$ \n",
    "\n",
    " Para a massa Distribuída\n",
    "$$f = \\frac{3.52}{2\\pi}\\sqrt{\\frac{EI}{ML^4}}$$ \n",
    "\n",
    "Tendo estes dois valores, é possível estimar a frequência natural da torre junto da massa, por meio da equação:\n",
    "\n",
    "$$ \\frac{1}{f_n^2} = \\frac{1}{f_1^2}+\\frac{1}{f_2^2}$$\n"
   ]
  },
  {
   "cell_type": "code",
   "execution_count": 14,
   "metadata": {},
   "outputs": [
    {
     "name": "stdout",
     "output_type": "stream",
     "text": [
      " Frequência das lajes:      0.772Hz \n",
      " Freqência do fuste:        1.033Hz \n",
      " Frequência da torre:       0.618Hz\n"
     ]
    }
   ],
   "source": [
    "f1 = 1/(2*np.pi)*np.sqrt(K/m_L)\n",
    "f2 = 3.52/(2*np.pi)*np.sqrt(E*10**6*I/(mi_F*60**4))\n",
    "inv_fn = 1/(f1**2) + 1/(f2**2)\n",
    "fn = (1/inv_fn)**0.5\n",
    "print(' Frequência das lajes:      {0:5.3f}Hz'.format(f1),'\\n',\n",
    "      'Freqência do fuste:        {0:5.3f}Hz'.format(f2),'\\n',\n",
    "      'Frequência da torre:       {0:5.3f}Hz'.format(fn))\n"
   ]
  },
  {
   "cell_type": "markdown",
   "metadata": {},
   "source": [
    "Com o valor do número de Reynolds obtido nos itens anteriores, o número de Strouhal é o Seguinte:\n",
    "$$ S_t = 0.2$$"
   ]
  },
  {
   "cell_type": "markdown",
   "metadata": {},
   "source": [
    "Calculando agora a velocidade crítica para os dois diâmetros da torre:\n",
    "\n"
   ]
  },
  {
   "cell_type": "code",
   "execution_count": 15,
   "metadata": {},
   "outputs": [
    {
     "name": "stdout",
     "output_type": "stream",
     "text": [
      " Velocidade crítica no fuste:         15.457m/s \n",
      " Velocidade crítica no Kevlar:        30.915m/s\n"
     ]
    }
   ],
   "source": [
    "v1 = 1/0.2 * fn * 5\n",
    "v2 = 1/0.2 * fn * 10\n",
    "print(' Velocidade crítica no fuste:         {0:5.3f}m/s'.format(v1),'\\n',\n",
    "      'Velocidade crítica no Kevlar:        {0:5.3f}m/s'.format(v2))"
   ]
  },
  {
   "cell_type": "markdown",
   "metadata": {},
   "source": [
    "Como a velocidade de projeto é maior que as velocidades críticas, pode ocorrer desprendimento de vórtices."
   ]
  },
  {
   "cell_type": "markdown",
   "metadata": {},
   "source": [
    "Os efeitos dinâmicos do desprendimento de vórtices podem ser aproximados por uma força estática lateral, atuando no terço\n",
    "superior, aplicada no ponto de máximo deslocamento da forma modal considerada. A força estática equivalente por unidade de altura, FL, é dada por:\n",
    "\n",
    "$$ F_L = \\frac{C1}{\\sqrt{\\lambda}\\sqrt{\\beta- C_2 \\frac{\\rho D^2}{M}}}q_HD $$"
   ]
  },
  {
   "cell_type": "markdown",
   "metadata": {},
   "source": [
    "Onde $\\beta$ é o amortecimento em razão do crítico (0.010), $\\lambda$ é a relação H/D, H é a altura da estrutura, $q_H$ é a pressão dinâmica correspondente a velocidade crítica( $q_H= 0.6*V_C^2$), M é a massa por unidade de altura do terço superior e $\\rho$ é a densidade do ar(1.2 kg/m^3). Para a maioria dos casos:\n",
    "\n",
    "$$C_1 = \\frac{3\\sqrt{\\lambda}}{4}$$\n",
    "\n"
   ]
  },
  {
   "cell_type": "markdown",
   "metadata": {},
   "source": [
    "Os cálculos abaixo são referentes a determinação da força transversal equivalente que atuará na estrutura."
   ]
  },
  {
   "cell_type": "code",
   "execution_count": 19,
   "metadata": {},
   "outputs": [
    {
     "name": "stdout",
     "output_type": "stream",
     "text": [
      "  λ:                          12.000 \n",
      "  C1:                          2.598 \n",
      "  C2:                          0.600 \n",
      "  Massa do terço final:        17357.299kg/m \n",
      "  Pressão dinâmica no Fuste:   143.356N/m² \n",
      "  Pressão dinâmica no Kevlar:  573.425N/m² \n",
      "  Força lateral no fuste:      5.678kN/m \n",
      "  Força lateral no Kevlar:     56.220kN/m\n"
     ]
    }
   ],
   "source": [
    "rho = 1.2\n",
    "lam = 60/5\n",
    "C1 = 3*lam**0.5/4\n",
    "C2 = 0.6\n",
    "\n",
    "\n",
    "M_3 = ((60*mi_F)/3 + m_L)/(60/3)\n",
    "\n",
    "\n",
    "qh1 = 0.6 * v1**2\n",
    "qh2 = 0.6 * v2**2\n",
    "\n",
    "FL1 = C1/((lam**0.5) * (0.01-C2*1.2*5**2/M_3)**0.5) * qh1 *5\n",
    "FL2 = C1/((lam**0.5) * (0.01- C2*1.2*10**2/M_3)**0.5) * qh2 *10\n",
    "\n",
    "print('  λ:                          {0:5.3f}'.format(lam),'\\n',\n",
    "      ' C1:                          {0:5.3f}'.format(C1),'\\n',\n",
    "      ' C2:                          {0:5.3f}'.format(C2),'\\n',\n",
    "      ' Massa do terço final:        {0:5.3f}kg/m'.format(M_3),'\\n',\n",
    "      ' Pressão dinâmica no Fuste:   {0:5.3f}N/m²'.format(qh1),'\\n',\n",
    "      ' Pressão dinâmica no Kevlar:  {0:5.3f}N/m²'.format(qh2),'\\n',\n",
    "      ' Força lateral no fuste:      {0:5.3f}kN/m'.format(FL1/1000),'\\n',\n",
    "      ' Força lateral no Kevlar:     {0:5.3f}kN/m'.format(FL2/1000))\n",
    "\n"
   ]
  },
  {
   "cell_type": "markdown",
   "metadata": {},
   "source": [
    "Se a seguinte relação for satisfeita, não haverá  oscilações acima de um diâmetro:\n",
    "$$ \\beta < C2\\frac{\\rho D^2}{M} $$\n"
   ]
  },
  {
   "cell_type": "code",
   "execution_count": 17,
   "metadata": {},
   "outputs": [
    {
     "name": "stdout",
     "output_type": "stream",
     "text": [
      " beta:         0.010 \n",
      " Fuste:        0.0010370 \n",
      " Kevlar:       0.0041481\n"
     ]
    }
   ],
   "source": [
    "beta = 0.01\n",
    "X1 = C2*rho*5**2/M_3\n",
    "X2 = C2*rho*10**2/M_3\n",
    "\n",
    "print(' beta:         {0:5.3f}'.format(beta),'\\n',\n",
    "      'Fuste:        {0:5.7f}'.format(X1),'\\n',\n",
    "      'Kevlar:       {0:5.7f}'.format(X2))\n"
   ]
  },
  {
   "cell_type": "markdown",
   "metadata": {},
   "source": [
    "Portanto, não ocorrerá deslocamentos superiores a um diâmetro.\n",
    "\n",
    "O cálculo dos esforços na base estão expostos a seguir:"
   ]
  },
  {
   "cell_type": "code",
   "execution_count": 18,
   "metadata": {},
   "outputs": [
    {
     "name": "stdout",
     "output_type": "stream",
     "text": [
      " Força adicional na base:                1240.218kN \n",
      " Momento fletor adicional na base:        62010.905kN.m\n"
     ]
    }
   ],
   "source": [
    "V1 = FL1 * 60\n",
    "V2 = FL2 * 16\n",
    "V = V1 + V2\n",
    "\n",
    "M = V * 50\n",
    "\n",
    "print(' Força adicional na base:                {0:5.3f}kN'.format(V/1000),'\\n',\n",
    "      'Momento fletor adicional na base:        {0:5.3f}kN.m'.format(M/1000))\n"
   ]
  },
  {
   "cell_type": "code",
   "execution_count": null,
   "metadata": {},
   "outputs": [],
   "source": []
  }
 ],
 "metadata": {
  "kernelspec": {
   "display_name": "Python 3",
   "language": "python",
   "name": "python3"
  },
  "language_info": {
   "codemirror_mode": {
    "name": "ipython",
    "version": 3
   },
   "file_extension": ".py",
   "mimetype": "text/x-python",
   "name": "python",
   "nbconvert_exporter": "python",
   "pygments_lexer": "ipython3",
   "version": "3.7.1"
  }
 },
 "nbformat": 4,
 "nbformat_minor": 2
}
